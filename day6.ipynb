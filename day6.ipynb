{
 "cells": [
  {
   "cell_type": "code",
   "execution_count": null,
   "metadata": {},
   "outputs": [],
   "source": [
    "import smtplib\n",
    "try:\n",
    "    server= smtplib.SMTP(host= 'SMPT.gmail.com',port=587)\n",
    "    server.starttls()       # start the server\n",
    "    recever_email= input(\"enter your email\")  \n",
    "    sender_email='ayushyadav9988776@gmail.com'\n",
    "    password = 'hecu angy pgnd vpsl'\n",
    "    server.login(sender_email,password=password)\n",
    "    subject=input(\"what is your problem\")\n",
    "    body=input(\"thoda or detail m btao\")\n",
    "    message=f\"subject:{subject}\\n\\n{body}\"\n",
    "    server.sendmail(sender_email,recever_email,message)\n",
    "    print(\"mne mail send kr di h\")\n",
    "    server.quit()\n",
    "except Exception as e:\n",
    "    \n",
    "    print(\"mail send nhi hue\")"
   ]
  },
  {
   "cell_type": "code",
   "execution_count": null,
   "metadata": {},
   "outputs": [],
   "source": []
  }
 ],
 "metadata": {
  "language_info": {
   "name": "python"
  }
 },
 "nbformat": 4,
 "nbformat_minor": 2
}
