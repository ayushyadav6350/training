{
 "cells": [
  {
   "cell_type": "code",
   "execution_count": 2,
   "metadata": {},
   "outputs": [
    {
     "name": "stderr",
     "output_type": "stream",
     "text": [
      "'pip-m' is not recognized as an internal or external command,\n",
      "operable program or batch file.\n"
     ]
    }
   ],
   "source": [
    "# !pip-m install pandas"
   ]
  },
  {
   "cell_type": "code",
   "execution_count": 1,
   "metadata": {},
   "outputs": [
    {
     "ename": "ModuleNotFoundError",
     "evalue": "No module named 'pandas'",
     "output_type": "error",
     "traceback": [
      "\u001b[1;31m---------------------------------------------------------------------------\u001b[0m",
      "\u001b[1;31mModuleNotFoundError\u001b[0m                       Traceback (most recent call last)",
      "\u001b[1;32mc:\\Users\\lab7\\Desktop\\code\\training\\pandas.ipynb Cell 2\u001b[0m line \u001b[0;36m1\n\u001b[1;32m----> <a href='vscode-notebook-cell:/c%3A/Users/lab7/Desktop/code/training/pandas.ipynb#W1sZmlsZQ%3D%3D?line=0'>1</a>\u001b[0m \u001b[39mimport\u001b[39;00m \u001b[39mpandas\u001b[39;00m \u001b[39mas\u001b[39;00m \u001b[39mpd\u001b[39;00m\n",
      "\u001b[1;31mModuleNotFoundError\u001b[0m: No module named 'pandas'"
     ]
    }
   ],
   "source": [
    "import pandas as pd\n"
   ]
  },
  {
   "cell_type": "code",
   "execution_count": 8,
   "metadata": {},
   "outputs": [
    {
     "ename": "NameError",
     "evalue": "name 'pd' is not defined",
     "output_type": "error",
     "traceback": [
      "\u001b[1;31m---------------------------------------------------------------------------\u001b[0m",
      "\u001b[1;31mNameError\u001b[0m                                 Traceback (most recent call last)",
      "\u001b[1;32mc:\\Users\\lab7\\Desktop\\code\\training\\pandas.ipynb Cell 3\u001b[0m line \u001b[0;36m6\n\u001b[0;32m      <a href='vscode-notebook-cell:/c%3A/Users/lab7/Desktop/code/training/pandas.ipynb#W2sZmlsZQ%3D%3D?line=0'>1</a>\u001b[0m mydataset \u001b[39m=\u001b[39m{\n\u001b[0;32m      <a href='vscode-notebook-cell:/c%3A/Users/lab7/Desktop/code/training/pandas.ipynb#W2sZmlsZQ%3D%3D?line=1'>2</a>\u001b[0m     \u001b[39m'\u001b[39m\u001b[39mcars\u001b[39m\u001b[39m'\u001b[39m: [\u001b[39m\"\u001b[39m\u001b[39mBMW\u001b[39m\u001b[39m\"\u001b[39m,\u001b[39m\"\u001b[39m\u001b[39mVOLVO\u001b[39m\u001b[39m\"\u001b[39m,\u001b[39m\"\u001b[39m\u001b[39mFORD\u001b[39m\u001b[39m\"\u001b[39m],\n\u001b[0;32m      <a href='vscode-notebook-cell:/c%3A/Users/lab7/Desktop/code/training/pandas.ipynb#W2sZmlsZQ%3D%3D?line=2'>3</a>\u001b[0m     \u001b[39m'\u001b[39m\u001b[39mpassings\u001b[39m\u001b[39m'\u001b[39m:[\u001b[39m4\u001b[39m,\u001b[39m5\u001b[39m,\u001b[39m6\u001b[39m]\n\u001b[0;32m      <a href='vscode-notebook-cell:/c%3A/Users/lab7/Desktop/code/training/pandas.ipynb#W2sZmlsZQ%3D%3D?line=3'>4</a>\u001b[0m }\n\u001b[0;32m      <a href='vscode-notebook-cell:/c%3A/Users/lab7/Desktop/code/training/pandas.ipynb#W2sZmlsZQ%3D%3D?line=4'>5</a>\u001b[0m mydataset\n\u001b[1;32m----> <a href='vscode-notebook-cell:/c%3A/Users/lab7/Desktop/code/training/pandas.ipynb#W2sZmlsZQ%3D%3D?line=5'>6</a>\u001b[0m df\u001b[39m=\u001b[39m pd\u001b[39m.\u001b[39mdataframes(mydataset)\n\u001b[0;32m      <a href='vscode-notebook-cell:/c%3A/Users/lab7/Desktop/code/training/pandas.ipynb#W2sZmlsZQ%3D%3D?line=6'>7</a>\u001b[0m df\n",
      "\u001b[1;31mNameError\u001b[0m: name 'pd' is not defined"
     ]
    }
   ],
   "source": [
    "mydataset ={\n",
    "    'cars': [\"BMW\",\"VOLVO\",\"FORD\"],\n",
    "    'passings':[4,5,6]\n",
    "}\n",
    "mydataset\n",
    "df= pd.dataframes(mydataset)\n",
    "df\n"
   ]
  },
  {
   "cell_type": "code",
   "execution_count": 9,
   "metadata": {},
   "outputs": [
    {
     "ename": "NameError",
     "evalue": "name 'pd' is not defined",
     "output_type": "error",
     "traceback": [
      "\u001b[1;31m---------------------------------------------------------------------------\u001b[0m",
      "\u001b[1;31mNameError\u001b[0m                                 Traceback (most recent call last)",
      "\u001b[1;32mc:\\Users\\lab7\\Desktop\\code\\training\\pandas.ipynb Cell 4\u001b[0m line \u001b[0;36m1\n\u001b[1;32m----> <a href='vscode-notebook-cell:/c%3A/Users/lab7/Desktop/code/training/pandas.ipynb#W3sZmlsZQ%3D%3D?line=0'>1</a>\u001b[0m df\u001b[39m=\u001b[39m pd\u001b[39m.\u001b[39mdataframes(mydataset)\n\u001b[0;32m      <a href='vscode-notebook-cell:/c%3A/Users/lab7/Desktop/code/training/pandas.ipynb#W3sZmlsZQ%3D%3D?line=1'>2</a>\u001b[0m df\n",
      "\u001b[1;31mNameError\u001b[0m: name 'pd' is not defined"
     ]
    }
   ],
   "source": [
    "df= pd.dataframes(mydataset)\n",
    "df"
   ]
  },
  {
   "cell_type": "code",
   "execution_count": null,
   "metadata": {},
   "outputs": [],
   "source": []
  },
  {
   "cell_type": "code",
   "execution_count": null,
   "metadata": {},
   "outputs": [],
   "source": []
  }
 ],
 "metadata": {
  "kernelspec": {
   "display_name": "Python 3",
   "language": "python",
   "name": "python3"
  },
  "language_info": {
   "codemirror_mode": {
    "name": "ipython",
    "version": 3
   },
   "file_extension": ".py",
   "mimetype": "text/x-python",
   "name": "python",
   "nbconvert_exporter": "python",
   "pygments_lexer": "ipython3",
   "version": "0.0.0"
  }
 },
 "nbformat": 4,
 "nbformat_minor": 2
}
