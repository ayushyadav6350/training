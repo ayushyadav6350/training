{
 "cells": [
  {
   "cell_type": "code",
   "execution_count": null,
   "metadata": {},
   "outputs": [],
   "source": [
    "# # multi level inheritance\n",
    "* grandfather to father to child     "
   ]
  },
  {
   "cell_type": "code",
   "execution_count": 1,
   "metadata": {},
   "outputs": [
    {
     "name": "stdout",
     "output_type": "stream",
     "text": [
      "75\n"
     ]
    }
   ],
   "source": [
    "class grandfather:\n",
    "    grandfather_name=\"surajmal\"\n",
    "    grandfather_age=75\n",
    "\n",
    "\n",
    "class father(grandfather):\n",
    "    father_name=\"deepak\"\n",
    "    father_age=50\n",
    "\n",
    "\n",
    "class child(father):\n",
    "    child_name=\"ayush\"\n",
    "    child_age=15\n",
    "\n",
    "obj_1= child()\n",
    "print(obj_1.grandfather_age)\n",
    "    "
   ]
  },
  {
   "cell_type": "code",
   "execution_count": 2,
   "metadata": {},
   "outputs": [],
   "source": []
  },
  {
   "cell_type": "code",
   "execution_count": null,
   "metadata": {},
   "outputs": [],
   "source": [
    "# multiple inheritance\n",
    "class grandfather:\n",
    "    gdfather_name=\"surajmal\"\n",
    "    grandfather_age=75\n",
    "\n",
    "\n",
    "class father():\n",
    "    father_name=\"deepak\"\n",
    "    father_age=50\n",
    "\n",
    "\n",
    "class child(grandfather,father):\n",
    "    child_name=\"ayush\"\n",
    "    child_age=15\n",
    "\n",
    "obj_1= child()\n",
    "print(obj_1.child_name)\n"
   ]
  },
  {
   "cell_type": "markdown",
   "metadata": {},
   "source": []
  },
  {
   "cell_type": "markdown",
   "metadata": {},
   "source": [
    "# Encapsulation\n",
    "* Public \n",
    "* Private\n",
    "* Protected"
   ]
  },
  {
   "cell_type": "markdown",
   "metadata": {},
   "source": []
  },
  {
   "cell_type": "markdown",
   "metadata": {},
   "source": [
    "public"
   ]
  },
  {
   "cell_type": "markdown",
   "metadata": {},
   "source": []
  },
  {
   "cell_type": "code",
   "execution_count": 5,
   "metadata": {},
   "outputs": [
    {
     "name": "stdout",
     "output_type": "stream",
     "text": [
      "5544332211\n"
     ]
    }
   ],
   "source": [
    "class college:\n",
    "    college_name=\"LIET\"\n",
    "    college_pincode=\"301002\"\n",
    "\n",
    "class faculty(college):\n",
    "    faculty_name=\"balvir\"\n",
    "    faculty_salary=90000\n",
    "    \n",
    "class students(faculty):\n",
    "    student_name= \"ayush\"\n",
    "    student_id=5544332211\n",
    "\n",
    "obj_1=students()\n",
    "print(obj_1.student_id)\n"
   ]
  },
  {
   "cell_type": "code",
   "execution_count": null,
   "metadata": {},
   "outputs": [],
   "source": []
  },
  {
   "cell_type": "code",
   "execution_count": null,
   "metadata": {},
   "outputs": [],
   "source": []
  },
  {
   "cell_type": "code",
   "execution_count": 8,
   "metadata": {},
   "outputs": [
    {
     "ename": "AttributeError",
     "evalue": "'students' object has no attribute 'faculty_salary'",
     "output_type": "error",
     "traceback": [
      "\u001b[1;31m---------------------------------------------------------------------------\u001b[0m",
      "\u001b[1;31mAttributeError\u001b[0m                            Traceback (most recent call last)",
      "\u001b[1;32m<ipython-input-8-cfa9dd634b8a>\u001b[0m in \u001b[0;36m<module>\u001b[1;34m\u001b[0m\n\u001b[0;32m     12\u001b[0m \u001b[1;33m\u001b[0m\u001b[0m\n\u001b[0;32m     13\u001b[0m \u001b[0mobj_1\u001b[0m\u001b[1;33m=\u001b[0m\u001b[0mstudents\u001b[0m\u001b[1;33m(\u001b[0m\u001b[1;33m)\u001b[0m\u001b[1;33m\u001b[0m\u001b[1;33m\u001b[0m\u001b[0m\n\u001b[1;32m---> 14\u001b[1;33m \u001b[0mprint\u001b[0m\u001b[1;33m(\u001b[0m\u001b[0mobj_1\u001b[0m\u001b[1;33m.\u001b[0m\u001b[0mfaculty_salary\u001b[0m\u001b[1;33m)\u001b[0m\u001b[1;33m\u001b[0m\u001b[1;33m\u001b[0m\u001b[0m\n\u001b[0m\u001b[0;32m     15\u001b[0m \u001b[0mprint\u001b[0m\u001b[1;33m(\u001b[0m\u001b[0mobj_1\u001b[0m\u001b[1;33m.\u001b[0m\u001b[0mstudent_name\u001b[0m\u001b[1;33m)\u001b[0m\u001b[1;33m\u001b[0m\u001b[1;33m\u001b[0m\u001b[0m\n\u001b[0;32m     16\u001b[0m \u001b[1;33m\u001b[0m\u001b[0m\n",
      "\u001b[1;31mAttributeError\u001b[0m: 'students' object has no attribute 'faculty_salary'"
     ]
    }
   ],
   "source": [
    "class college:\n",
    "    college_name=\"LIET\"\n",
    "    college_pincode=\"301002\"\n",
    "\n",
    "class faculty(college):\n",
    "    faculty_name=\"balvir\"\n",
    "    __faculty_salary=90000  # private variable\n",
    "    \n",
    "class students(faculty):\n",
    "    student_name= \"ayush\"\n",
    "    student_id=5544332211\n",
    "\n",
    "obj_1=students()\n",
    "print(obj_1.faculty_salary) # public variable\n",
    "print(obj_1.student_name)\n",
    "\n"
   ]
  },
  {
   "cell_type": "code",
   "execution_count": 17,
   "metadata": {},
   "outputs": [
    {
     "ename": "NameError",
     "evalue": "name 'college_room' is not defined",
     "output_type": "error",
     "traceback": [
      "\u001b[1;31m---------------------------------------------------------------------------\u001b[0m",
      "\u001b[1;31mNameError\u001b[0m                                 Traceback (most recent call last)",
      "\u001b[1;32m<ipython-input-17-b39316aadcb2>\u001b[0m in \u001b[0;36m<module>\u001b[1;34m\u001b[0m\n\u001b[0;32m     18\u001b[0m     \u001b[0mstudent_id\u001b[0m\u001b[1;33m=\u001b[0m\u001b[1;36m5544332211\u001b[0m\u001b[1;33m\u001b[0m\u001b[1;33m\u001b[0m\u001b[0m\n\u001b[0;32m     19\u001b[0m \u001b[1;33m\u001b[0m\u001b[0m\n\u001b[1;32m---> 20\u001b[1;33m \u001b[0mobj\u001b[0m \u001b[1;33m=\u001b[0m\u001b[0mstudent\u001b[0m\u001b[1;33m(\u001b[0m\u001b[1;34m\"liet park\"\u001b[0m\u001b[1;33m,\u001b[0m\u001b[1;36m3\u001b[0m\u001b[1;33m)\u001b[0m\u001b[1;33m\u001b[0m\u001b[1;33m\u001b[0m\u001b[0m\n\u001b[0m\u001b[0;32m     21\u001b[0m \u001b[0mprint\u001b[0m\u001b[1;33m(\u001b[0m\u001b[0mobj\u001b[0m\u001b[1;33m.\u001b[0m\u001b[0mcollege_park\u001b[0m\u001b[1;33m)\u001b[0m\u001b[1;33m\u001b[0m\u001b[1;33m\u001b[0m\u001b[0m\n",
      "\u001b[1;32m<ipython-input-17-b39316aadcb2>\u001b[0m in \u001b[0;36m__init__\u001b[1;34m(self, college_parks, college_rooms)\u001b[0m\n\u001b[0;32m      4\u001b[0m     \u001b[1;32mdef\u001b[0m \u001b[0m__init__\u001b[0m\u001b[1;33m(\u001b[0m\u001b[0mself\u001b[0m\u001b[1;33m,\u001b[0m\u001b[0mcollege_parks\u001b[0m\u001b[1;33m,\u001b[0m\u001b[0mcollege_rooms\u001b[0m\u001b[1;33m)\u001b[0m\u001b[1;33m:\u001b[0m\u001b[1;33m\u001b[0m\u001b[1;33m\u001b[0m\u001b[0m\n\u001b[0;32m      5\u001b[0m         \u001b[0mself\u001b[0m\u001b[1;33m.\u001b[0m\u001b[0mcollege_park\u001b[0m\u001b[1;33m=\u001b[0m\u001b[0mcollege_parks\u001b[0m\u001b[1;33m\u001b[0m\u001b[1;33m\u001b[0m\u001b[0m\n\u001b[1;32m----> 6\u001b[1;33m         \u001b[0mself\u001b[0m\u001b[1;33m.\u001b[0m\u001b[0mcollege_room\u001b[0m\u001b[1;33m=\u001b[0m\u001b[0mcollege_room\u001b[0m\u001b[1;33m\u001b[0m\u001b[1;33m\u001b[0m\u001b[0m\n\u001b[0m\u001b[0;32m      7\u001b[0m     \u001b[1;32mdef\u001b[0m \u001b[0mdisplay\u001b[0m\u001b[1;33m(\u001b[0m\u001b[0mself\u001b[0m\u001b[1;33m)\u001b[0m\u001b[1;33m:\u001b[0m\u001b[1;33m\u001b[0m\u001b[1;33m\u001b[0m\u001b[0m\n\u001b[0;32m      8\u001b[0m         \u001b[0mprint\u001b[0m\u001b[1;33m(\u001b[0m\u001b[0mself\u001b[0m\u001b[1;33m.\u001b[0m\u001b[0mcollege_parks\u001b[0m\u001b[1;33m)\u001b[0m\u001b[1;33m\u001b[0m\u001b[1;33m\u001b[0m\u001b[0m\n",
      "\u001b[1;31mNameError\u001b[0m: name 'college_room' is not defined"
     ]
    }
   ],
   "source": [
    "class college:\n",
    "    college_name=\"LIET\"\n",
    "    college_pincode=\"301002\"\n",
    "    def __init__(self,college_parks,college_rooms):\n",
    "        self.college_park=college_parks\n",
    "        self.college_room=college_rooms\n",
    "    def display(self):\n",
    "        print(self.college_parks)\n",
    "        print(self.college_rooms)\n",
    "\n",
    "\n",
    "class faculty(college):\n",
    "    faculty_name=\"balvir\"\n",
    "    faculty_salary=90000\n",
    "    \n",
    "class student(faculty):\n",
    "    student_name= \"ayush\"\n",
    "    student_id=5544332211\n",
    "\n",
    "obj =student(\"liet park\",3)\n",
    "print(obj.college_park)"
   ]
  },
  {
   "cell_type": "markdown",
   "metadata": {},
   "source": [
    "# protected"
   ]
  },
  {
   "cell_type": "code",
   "execution_count": 20,
   "metadata": {},
   "outputs": [
    {
     "name": "stdout",
     "output_type": "stream",
     "text": [
      "LIET\n"
     ]
    }
   ],
   "source": [
    "\n",
    "class college:\n",
    "    _college_name=\"LIET\"  # protected variable  \"_\"\n",
    "    college_pincode=\"301002\"\n",
    "\n",
    "class faculty(college):\n",
    "    faculty_name=\"balvir\"\n",
    "    faculty_salary=90000\n",
    "    \n",
    "class students(faculty):\n",
    "    student_name= \"ayush\"\n",
    "    student_id=5544332211\n",
    "\n",
    "obj_1=students()\n",
    "print(obj_1._college_name)\n"
   ]
  },
  {
   "cell_type": "markdown",
   "metadata": {},
   "source": []
  },
  {
   "cell_type": "markdown",
   "metadata": {},
   "source": [
    "# Polymorphism"
   ]
  },
  {
   "cell_type": "code",
   "execution_count": 21,
   "metadata": {},
   "outputs": [
    {
     "name": "stdout",
     "output_type": "stream",
     "text": [
      "hello\n"
     ]
    }
   ],
   "source": [
    "print(\"hello\")"
   ]
  },
  {
   "cell_type": "markdown",
   "metadata": {},
   "source": [
    "## Abstraction"
   ]
  },
  {
   "cell_type": "code",
   "execution_count": null,
   "metadata": {},
   "outputs": [],
   "source": [
    "#it is used to hide any entity"
   ]
  },
  {
   "cell_type": "markdown",
   "metadata": {},
   "source": []
  }
 ],
 "metadata": {
  "kernelspec": {
   "display_name": "Python 3",
   "language": "python",
   "name": "python3"
  },
  "language_info": {
   "codemirror_mode": {
    "name": "ipython",
    "version": 3
   },
   "file_extension": ".py",
   "mimetype": "text/x-python",
   "name": "python",
   "nbconvert_exporter": "python",
   "pygments_lexer": "ipython3",
   "version": "3.7.3"
  }
 },
 "nbformat": 4,
 "nbformat_minor": 2
}
