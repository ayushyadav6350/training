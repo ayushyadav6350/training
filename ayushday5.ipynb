{
 "cells": [
  {
   "cell_type": "code",
   "execution_count": 2,
   "metadata": {},
   "outputs": [
    {
     "name": "stdout",
     "output_type": "stream",
     "text": [
      "program is running\n",
      "program is running\n",
      "no exception is found\n",
      "hello world\n"
     ]
    }
   ],
   "source": [
    "#i= 1\n",
    "#while i<6:\n",
    "#    print(i)\n",
    "#    if i==3:\n",
    "#        break\n",
    "#    i+=1\n",
    "#i=2\n",
    "#while(i<10):\n",
    "#    if i==8:\n",
    "#        continue\n",
    "#    print(i)\n",
    "#i=#0\n",
    "#while(i<10)#:\n",
    "  #  i+=1\n",
    "  #  if i===6:\n",
    "  #      break\n",
    "  #  print(i)\n",
    "#def my_function:()\n",
    "#    print(\"ayush yadav\")\n",
    "#for i in range(10):\n",
    "#    my_function()\n",
    "#def my_function(fname):\n",
    "#    print(fname+ \"yadav\")\n",
    "\n",
    "\n",
    "#my_function(\"mophan\")\n",
    "#my_function(\"rohan\")\n",
    "#def my_name(fname,lname):\n",
    "    #print(fnmae + \" \"+ lname)\n",
    "#def my_function(*kids):\n",
    "    #print(\"the youngest child is \"+ kids[2])\n",
    "\n",
    "#my_function(\"ram\",\"mohan\",\"rohan\")\n",
    "#def my_country(country=\"india\"):\n",
    "#print(\"i am from\"+ country)\n",
    "\n",
    "#my_country(\"japan\")  \n",
    "#my_country()\n",
    "#my_country(\"brazil\")\n",
    "\n",
    "\n",
    "#def square_element(input_lst):\n",
    "    #temp = []\n",
    "   # for x in input_lst:\n",
    "  #      temp.append(x**2)\n",
    " #   return temp\n",
    "\n",
    "\n",
    "#x=square_element([2,4,7,8])\n",
    "#print(x)\n",
    "#def avg_function(input_lst):\n",
    " #   return sum(input_lst)/len(input_lst)\n",
    "\n",
    "#avg_fumction([25,48,28,69])\n",
    "#def apna_min(lst):\n",
    "    #minimum =y[0]\n",
    "    #for i in lst:\n",
    "   #     if minimum>i:\n",
    "  #         minimum = i\n",
    " #   print(minimum)\n",
    "\n",
    "#y = [23,45,67,48]\n",
    "#apna_min(y) \n",
    "#x = lambda a: a#+10\n",
    "#print(x(10))\n",
    " \n",
    "#x = lambda a,b:a#*b\n",
    "#print(x(10,20))\n",
    "#z = lambda a,b,c:a*b+c\n",
    "#print(z(29,30,31))\n",
    "#def my_function(n):\n",
    " #   return lambda a:a*n\n",
    "\n",
    "\n",
    "#double = my_function(7)\n",
    "#print(double(11))\n",
    "n1=int(input(\"enter value\"))\n",
    "n2=int(input(\"enter value\"))\n",
    "\n",
    "try:\n",
    "    print(\"program is running\")\n",
    "    result=n1/n2\n",
    "    print(\"program is running\")\n",
    "except Exception as e:\n",
    "    print(\"as get an error\")\n",
    "\n",
    "else:\n",
    "    print(\"no exception is found\")\n",
    "\n",
    "finally:\n",
    "    print(\"hello world\")\n",
    "\n",
    "\n",
    " \n",
    "\n",
    "\n",
    "        \n",
    "\n",
    "\n",
    "\n"
   ]
  },
  {
   "cell_type": "code",
   "execution_count": 16,
   "metadata": {},
   "outputs": [
    {
     "name": "stdout",
     "output_type": "stream",
     "text": [
      "python\n"
     ]
    }
   ],
   "source": [
    "#oops\n",
    "# class animan\n",
    "#     name= \"lion\n",
    "#     weight=11\n",
    "    # age=40\n",
    "\n",
    "#def display(self):\n",
    "       # print(self.name)\n",
    "        # print(self.weight)\n",
    "#print(self.age)\n",
    "\n",
    "# obj_animal = animal()\n",
    "# print(obj_animal.name)\n",
    "\n",
    "# obj_animal.display()\n",
    "# obj_animal.name = \"python\"\n",
    "# print(obj_animal.name)"
   ]
  },
  {
   "cell_type": "code",
   "execution_count": 24,
   "metadata": {},
   "outputs": [
    {
     "name": "stdout",
     "output_type": "stream",
     "text": [
      "lion\n",
      "22\n",
      "100\n"
     ]
    }
   ],
   "source": [
    "# __init__ = use define new property to object\n",
    "class animal:\n",
    "    n1=100\n",
    "    n2=200\n",
    "    def __init__(self,name,weight,age):\n",
    "        self.animal_name = name\n",
    "        self.animal_weight = weight\n",
    "        self.animal_age = age \n",
    "    def display(self):\n",
    "        print(self.animal_name)\n",
    "        print(self.animal_weight)\n",
    "        print(self.animal_age)\n",
    "    \n",
    "obj1 = animal(name=\"lion\",weight=100,age=22)\n",
    "print(obj1.animal_name)\n",
    "print(obj1.animal_age)\n",
    "print(obj1.animal_weight)\n",
    "\n"
   ]
  },
  {
   "cell_type": "code",
   "execution_count": 39,
   "metadata": {},
   "outputs": [
    {
     "name": "stdout",
     "output_type": "stream",
     "text": [
      "name of account holder:- ayush yadav and account number is:- 4523521562532\n",
      "\n",
      "account holder name is changed:- harsh yadav\n",
      "harsh yadav\n",
      "22\n",
      "alwar raj\n",
      "kotak bank\n",
      "4523521562532\n",
      "\n",
      "second acc detailes\n",
      "ayush yadav\n",
      "\n",
      "show account 1 info\n",
      "harsh yadav\n",
      "22\n",
      "alwar raj\n",
      "kotak bank\n",
      "4523521562532\n",
      "\n"
     ]
    }
   ],
   "source": [
    "class bank:\n",
    "    name = \"ayush yadav\"\n",
    "    age=22\n",
    "    address= \"alwar raj\"\n",
    "    bank_name= \"kotak bank\"\n",
    "    account_no= 4523521562532\n",
    "\n",
    "    def show_info(self):\n",
    "        print(self.name)\n",
    "        print(self.age)\n",
    "        print(self.address)\n",
    "        print(self.bank_name)\n",
    "        print(self.account_no)\n",
    "\n",
    "account_1 = bank()\n",
    "print(\"name of account holder:-\",account_1.name, 'and account number is:-',account_1.account_no)\n",
    "print()\n",
    "\n",
    "account_1.name = \"harsh yadav\"\n",
    "print(\"account holder name is changed:-\", account_1.name)\n",
    "\n",
    "account_1.show_info()\n",
    "print()\n",
    "print('second acc detailes')\n",
    "\n",
    "account_2= bank()\n",
    "print(account_2.name)\n",
    "print()\n",
    "\n",
    "print(\"show account 1 info\")\n",
    "account_1.show_info()\n",
    "print()\n"
   ]
  },
  {
   "cell_type": "code",
   "execution_count": 43,
   "metadata": {},
   "outputs": [
    {
     "name": "stdout",
     "output_type": "stream",
     "text": [
      "condtructor is extended\n",
      "67\n"
     ]
    }
   ],
   "source": [
    "class father:\n",
    "    def __init__(self,name,age):\n",
    "        self.father_name = name\n",
    "        self.father_age = age\n",
    "        print(\"condtructor is extended\")\n",
    "\n",
    "    def display(self):\n",
    "        print(\"my father name is\",self.father_name)\n",
    "        print(\"my father age is\",self.father_age)\n",
    "\n",
    "class son(father):\n",
    "        def son_hii(self):\n",
    "            print(\"hi i am ram\")\n",
    "            print(\"i am 22 years old\")\n",
    "            \n",
    "\n",
    "son_obj = son(\"mohan\",67)\n",
    "print(son_obj.father_age)\n",
    "        "
   ]
  },
  {
   "cell_type": "markdown",
   "metadata": {},
   "source": []
  },
  {
   "cell_type": "code",
   "execution_count": null,
   "metadata": {},
   "outputs": [],
   "source": []
  }
 ],
 "metadata": {
  "kernelspec": {
   "display_name": "Python 3",
   "language": "python",
   "name": "python3"
  },
  "language_info": {
   "codemirror_mode": {
    "name": "ipython",
    "version": 3
   },
   "file_extension": ".py",
   "mimetype": "text/x-python",
   "name": "python",
   "nbconvert_exporter": "python",
   "pygments_lexer": "ipython3",
   "version": "3.7.3"
  }
 },
 "nbformat": 4,
 "nbformat_minor": 2
}
