{
 "cells": [
  {
   "cell_type": "markdown",
   "metadata": {},
   "source": [
    "# MACHINE LEARNING"
   ]
  },
  {
   "cell_type": "code",
   "execution_count": null,
   "metadata": {},
   "outputs": [],
   "source": [
    "# linear regression\n",
    "#y=a0+A1x+E\n",
    "#y= dependendent variable \n",
    "#a0= intercept \n",
    "#A1x= A1-linear regression cofficient, x- independent variable\n",
    "#E = mean sq. error"
   ]
  },
  {
   "cell_type": "code",
   "execution_count": null,
   "metadata": {},
   "outputs": [],
   "source": [
    "#y=a0+A1x1+A2x2+A3x3....+AnXn\n",
    "#A1= reg. cofficient\n",
    "#X!= independent variable\n",
    "#y = dependendent variable"
   ]
  },
  {
   "cell_type": "code",
   "execution_count": null,
   "metadata": {},
   "outputs": [],
   "source": [
    "#Gradient Descent= minimize the mean sq. error\n",
    "#Cost function=it is a meaasure how reg. model is performing\n",
    "#optimization is the process of finding best model out of the given model\n",
    "#how reg line is perfectly drawn is measured by R-SQUARE METHOD \n",
    "#R-SQUARE METHOD formula = explained variation/total variation\n"
   ]
  },
  {
   "cell_type": "code",
   "execution_count": null,
   "metadata": {},
   "outputs": [],
   "source": [
    "# <img src=\"dtree_test_set.png\"   style=\"width: 500px; height: 400px;\">  # code used to upload image in markdown "
   ]
  }
 ],
 "metadata": {
  "kernelspec": {
   "display_name": "Python 3",
   "language": "python",
   "name": "python3"
  },
  "language_info": {
   "name": "python",
   "version": "3.7.3"
  }
 },
 "nbformat": 4,
 "nbformat_minor": 2
}
